{
 "cells": [
  {
   "cell_type": "markdown",
   "id": "5c045b6f-2966-40da-bbf0-2cca52370a3b",
   "metadata": {},
   "source": [
    "## Blenderbot"
   ]
  },
  {
   "cell_type": "markdown",
   "id": "2a4b8c17-89bd-41d3-82fb-5999f9c08d83",
   "metadata": {},
   "source": [
    "This notebook shows how you can chat with Blenderbot through an EMISSOR client. The EMISSOR layer will capture the interaction as a scenario for further analysis. "
   ]
  },
  {
   "cell_type": "markdown",
   "id": "e63864de-b1c2-4051-9a2f-23bc2dbb84ee",
   "metadata": {},
   "source": [
    "### Loading Blenderbot"
   ]
  },
  {
   "cell_type": "code",
   "execution_count": 1,
   "id": "264d6d78-6056-4719-b73a-1dce15dcf805",
   "metadata": {
    "tags": []
   },
   "outputs": [
    {
     "name": "stderr",
     "output_type": "stream",
     "text": [
      "/Users/annika/anaconda3/envs/combots_2024/lib/python3.12/site-packages/tqdm/auto.py:21: TqdmWarning: IProgress not found. Please update jupyter and ipywidgets. See https://ipywidgets.readthedocs.io/en/stable/user_install.html\n",
      "  from .autonotebook import tqdm as notebook_tqdm\n"
     ]
    }
   ],
   "source": [
    "from transformers import BlenderbotTokenizer, BlenderbotForConditionalGeneration\n",
    "mname = 'facebook/blenderbot-400M-distill'\n",
    "blender_model = BlenderbotForConditionalGeneration.from_pretrained(mname)\n",
    "blender_tokenizer = BlenderbotTokenizer.from_pretrained(mname)"
   ]
  },
  {
   "cell_type": "code",
   "execution_count": 2,
   "id": "8cbf30f1-b1a0-4793-a71d-d9c0cacd2961",
   "metadata": {
    "tags": []
   },
   "outputs": [],
   "source": [
    "context_size = 5\n",
    "def get_answer_from_blender(prompt:str, history_list:[]):\n",
    "    history = \"\"\n",
    "    for i, his in enumerate(history_list):\n",
    "        if i==context_size:\n",
    "            break\n",
    "        history += his +\". \"\n",
    "    input_prompt = history+prompt\n",
    "    bot_input_ids = blender_tokenizer(input_prompt, return_tensors='pt')\n",
    "    chat_history_ids = blender_model.generate(**bot_input_ids)\n",
    "    utteranceList = blender_tokenizer.batch_decode(chat_history_ids)\n",
    "    answer = utteranceList[0].strip('</s>')\n",
    "    return answer"
   ]
  },
  {
   "cell_type": "markdown",
   "id": "7387c124-7772-4511-9afb-cb83449ca47a",
   "metadata": {},
   "source": [
    "### Creating an EMISSOR client"
   ]
  },
  {
   "cell_type": "code",
   "execution_count": 3,
   "id": "89a29313-9cd6-4321-9f0d-fd2746ae2ac6",
   "metadata": {
    "tags": []
   },
   "outputs": [],
   "source": [
    "from leolani_client import LeolaniChatClient\n",
    "emissor_path = \"./emissor\"\n",
    "HUMAN=\"Piek\"\n",
    "AGENT=\"BlenderBot\"\n",
    "leolaniClient = LeolaniChatClient(emissor_path=emissor_path, agent=AGENT, human=HUMAN)"
   ]
  },
  {
   "cell_type": "markdown",
   "id": "2f437945-4b5c-418a-b9a1-55b7435d5da6",
   "metadata": {},
   "source": [
    "### Interaction loop"
   ]
  },
  {
   "cell_type": "code",
   "execution_count": 4,
   "id": "1fa6d0c3-a5fa-4a5a-b2f9-093ee36aba51",
   "metadata": {
    "tags": []
   },
   "outputs": [
    {
     "name": "stdout",
     "output_type": "stream",
     "text": [
      "BlenderBot: Say whatever you want to say and I will respond. Say \"stop\" or \"bye\" to quit.\n",
      "BlenderBot: Hi Piek. How are you doing?\n",
      "\n",
      "bye\n",
      "Piek: bye\n"
     ]
    }
   ],
   "source": [
    "history = []\n",
    "max_context=50\n",
    "\n",
    "### First prompt\n",
    "prompt = \"Say whatever you want to say and I will respond. Say \\\"stop\\\" or \\\"bye\\\" to quit.\"\n",
    "print(AGENT + \": \" + prompt)\n",
    "leolaniClient._add_utterance(AGENT, prompt) \n",
    "prompt = \"Hi \"+HUMAN+\". How are you doing?\"\n",
    "print(AGENT + \": \" + prompt)\n",
    "leolaniClient._add_utterance(AGENT, prompt) \n",
    "history.append(prompt)\n",
    "\n",
    "utterance = input(\"\\n\")\n",
    "print(HUMAN + \": \" + utterance)\n",
    "leolaniClient._add_utterance(HUMAN, utterance)\n",
    "\n",
    "while not (utterance.lower() == \"stop\" or utterance.lower() == \"bye\"):\n",
    "    # Create the response from the system and store this as a new signal\n",
    "    prompt = get_answer_from_blender(utterance, history)\n",
    "    print('\\n\\t'+AGENT + \": \" + prompt)\n",
    "    history.append(prompt)\n",
    "    leolaniClient._add_utterance(AGENT, prompt) \n",
    "\n",
    "    utterance = input(\"\\n\")\n",
    "    print(HUMAN + \": \" + utterance)\n",
    "    leolaniClient._add_utterance(HUMAN, utterance)\n",
    "\n",
    "##### After completion, we save the scenario in the defined emissor folder.\n",
    "leolaniClient._save_scenario() "
   ]
  },
  {
   "cell_type": "code",
   "execution_count": null,
   "id": "e1136a7a-2284-46ff-80b3-00247195e022",
   "metadata": {},
   "outputs": [],
   "source": []
  }
 ],
 "metadata": {
  "kernelspec": {
   "display_name": "combots_2024",
   "language": "python",
   "name": "combots_2024"
  },
  "language_info": {
   "codemirror_mode": {
    "name": "ipython",
    "version": 3
   },
   "file_extension": ".py",
   "mimetype": "text/x-python",
   "name": "python",
   "nbconvert_exporter": "python",
   "pygments_lexer": "ipython3",
   "version": "3.12.7"
  }
 },
 "nbformat": 4,
 "nbformat_minor": 5
}
